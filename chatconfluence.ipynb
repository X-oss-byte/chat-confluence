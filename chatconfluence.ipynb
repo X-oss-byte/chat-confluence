{
 "cells": [
  {
   "cell_type": "code",
   "execution_count": 39,
   "id": "368d525b",
   "metadata": {},
   "outputs": [
    {
     "name": "stdout",
     "output_type": "stream",
     "text": [
      "Requirement already satisfied: lxml in /Users/chentienan/code/git/github/openai-cookbook/e_k_r.venv/lib/python3.11/site-packages (4.9.2)\n",
      "Requirement already satisfied: pytesseract in /Users/chentienan/code/git/github/openai-cookbook/e_k_r.venv/lib/python3.11/site-packages (0.3.10)\n",
      "Requirement already satisfied: Pillow in /Users/chentienan/code/git/github/openai-cookbook/e_k_r.venv/lib/python3.11/site-packages (9.5.0)\n",
      "Requirement already satisfied: packaging>=21.3 in /Users/chentienan/code/git/github/openai-cookbook/e_k_r.venv/lib/python3.11/site-packages (from pytesseract) (23.1)\n",
      "Requirement already satisfied: atlassian-python-api in /Users/chentienan/code/git/github/openai-cookbook/e_k_r.venv/lib/python3.11/site-packages (3.38.0)\n",
      "Requirement already satisfied: deprecated in /Users/chentienan/code/git/github/openai-cookbook/e_k_r.venv/lib/python3.11/site-packages (from atlassian-python-api) (1.2.14)\n",
      "Requirement already satisfied: requests in /Users/chentienan/code/git/github/openai-cookbook/e_k_r.venv/lib/python3.11/site-packages (from atlassian-python-api) (2.31.0)\n",
      "Requirement already satisfied: six in /Users/chentienan/code/git/github/openai-cookbook/e_k_r.venv/lib/python3.11/site-packages (from atlassian-python-api) (1.16.0)\n",
      "Requirement already satisfied: oauthlib in /Users/chentienan/code/git/github/openai-cookbook/e_k_r.venv/lib/python3.11/site-packages (from atlassian-python-api) (3.2.2)\n",
      "Requirement already satisfied: requests-oauthlib in /Users/chentienan/code/git/github/openai-cookbook/e_k_r.venv/lib/python3.11/site-packages (from atlassian-python-api) (1.3.1)\n",
      "Requirement already satisfied: wrapt<2,>=1.10 in /Users/chentienan/code/git/github/openai-cookbook/e_k_r.venv/lib/python3.11/site-packages (from deprecated->atlassian-python-api) (1.15.0)\n",
      "Requirement already satisfied: charset-normalizer<4,>=2 in /Users/chentienan/code/git/github/openai-cookbook/e_k_r.venv/lib/python3.11/site-packages (from requests->atlassian-python-api) (3.1.0)\n",
      "Requirement already satisfied: idna<4,>=2.5 in /Users/chentienan/code/git/github/openai-cookbook/e_k_r.venv/lib/python3.11/site-packages (from requests->atlassian-python-api) (3.4)\n",
      "Requirement already satisfied: urllib3<3,>=1.21.1 in /Users/chentienan/code/git/github/openai-cookbook/e_k_r.venv/lib/python3.11/site-packages (from requests->atlassian-python-api) (2.0.2)\n",
      "Requirement already satisfied: certifi>=2017.4.17 in /Users/chentienan/code/git/github/openai-cookbook/e_k_r.venv/lib/python3.11/site-packages (from requests->atlassian-python-api) (2023.5.7)\n",
      "Requirement already satisfied: langchain in /Users/chentienan/code/git/github/openai-cookbook/e_k_r.venv/lib/python3.11/site-packages (0.0.185)\n",
      "Requirement already satisfied: PyYAML>=5.4.1 in /Users/chentienan/code/git/github/openai-cookbook/e_k_r.venv/lib/python3.11/site-packages (from langchain) (6.0)\n",
      "Requirement already satisfied: SQLAlchemy<3,>=1.4 in /Users/chentienan/code/git/github/openai-cookbook/e_k_r.venv/lib/python3.11/site-packages (from langchain) (2.0.15)\n",
      "Requirement already satisfied: aiohttp<4.0.0,>=3.8.3 in /Users/chentienan/code/git/github/openai-cookbook/e_k_r.venv/lib/python3.11/site-packages (from langchain) (3.8.4)\n",
      "Requirement already satisfied: dataclasses-json<0.6.0,>=0.5.7 in /Users/chentienan/code/git/github/openai-cookbook/e_k_r.venv/lib/python3.11/site-packages (from langchain) (0.5.7)\n",
      "Requirement already satisfied: numexpr<3.0.0,>=2.8.4 in /Users/chentienan/code/git/github/openai-cookbook/e_k_r.venv/lib/python3.11/site-packages (from langchain) (2.8.4)\n",
      "Requirement already satisfied: numpy<2,>=1 in /Users/chentienan/code/git/github/openai-cookbook/e_k_r.venv/lib/python3.11/site-packages (from langchain) (1.24.2)\n",
      "Requirement already satisfied: openapi-schema-pydantic<2.0,>=1.2 in /Users/chentienan/code/git/github/openai-cookbook/e_k_r.venv/lib/python3.11/site-packages (from langchain) (1.2.4)\n",
      "Requirement already satisfied: pydantic<2,>=1 in /Users/chentienan/code/git/github/openai-cookbook/e_k_r.venv/lib/python3.11/site-packages (from langchain) (1.10.8)\n",
      "Requirement already satisfied: requests<3,>=2 in /Users/chentienan/code/git/github/openai-cookbook/e_k_r.venv/lib/python3.11/site-packages (from langchain) (2.31.0)\n",
      "Requirement already satisfied: tenacity<9.0.0,>=8.1.0 in /Users/chentienan/code/git/github/openai-cookbook/e_k_r.venv/lib/python3.11/site-packages (from langchain) (8.2.2)\n",
      "Requirement already satisfied: attrs>=17.3.0 in /Users/chentienan/code/git/github/openai-cookbook/e_k_r.venv/lib/python3.11/site-packages (from aiohttp<4.0.0,>=3.8.3->langchain) (23.1.0)\n",
      "Requirement already satisfied: charset-normalizer<4.0,>=2.0 in /Users/chentienan/code/git/github/openai-cookbook/e_k_r.venv/lib/python3.11/site-packages (from aiohttp<4.0.0,>=3.8.3->langchain) (3.1.0)\n",
      "Requirement already satisfied: multidict<7.0,>=4.5 in /Users/chentienan/code/git/github/openai-cookbook/e_k_r.venv/lib/python3.11/site-packages (from aiohttp<4.0.0,>=3.8.3->langchain) (6.0.4)\n",
      "Requirement already satisfied: async-timeout<5.0,>=4.0.0a3 in /Users/chentienan/code/git/github/openai-cookbook/e_k_r.venv/lib/python3.11/site-packages (from aiohttp<4.0.0,>=3.8.3->langchain) (4.0.2)\n",
      "Requirement already satisfied: yarl<2.0,>=1.0 in /Users/chentienan/code/git/github/openai-cookbook/e_k_r.venv/lib/python3.11/site-packages (from aiohttp<4.0.0,>=3.8.3->langchain) (1.9.2)\n",
      "Requirement already satisfied: frozenlist>=1.1.1 in /Users/chentienan/code/git/github/openai-cookbook/e_k_r.venv/lib/python3.11/site-packages (from aiohttp<4.0.0,>=3.8.3->langchain) (1.3.3)\n",
      "Requirement already satisfied: aiosignal>=1.1.2 in /Users/chentienan/code/git/github/openai-cookbook/e_k_r.venv/lib/python3.11/site-packages (from aiohttp<4.0.0,>=3.8.3->langchain) (1.3.1)\n",
      "Requirement already satisfied: marshmallow<4.0.0,>=3.3.0 in /Users/chentienan/code/git/github/openai-cookbook/e_k_r.venv/lib/python3.11/site-packages (from dataclasses-json<0.6.0,>=0.5.7->langchain) (3.19.0)\n",
      "Requirement already satisfied: marshmallow-enum<2.0.0,>=1.5.1 in /Users/chentienan/code/git/github/openai-cookbook/e_k_r.venv/lib/python3.11/site-packages (from dataclasses-json<0.6.0,>=0.5.7->langchain) (1.5.1)\n",
      "Requirement already satisfied: typing-inspect>=0.4.0 in /Users/chentienan/code/git/github/openai-cookbook/e_k_r.venv/lib/python3.11/site-packages (from dataclasses-json<0.6.0,>=0.5.7->langchain) (0.9.0)\n",
      "Requirement already satisfied: typing-extensions>=4.2.0 in /Users/chentienan/code/git/github/openai-cookbook/e_k_r.venv/lib/python3.11/site-packages (from pydantic<2,>=1->langchain) (4.6.2)\n",
      "Requirement already satisfied: idna<4,>=2.5 in /Users/chentienan/code/git/github/openai-cookbook/e_k_r.venv/lib/python3.11/site-packages (from requests<3,>=2->langchain) (3.4)\n",
      "Requirement already satisfied: urllib3<3,>=1.21.1 in /Users/chentienan/code/git/github/openai-cookbook/e_k_r.venv/lib/python3.11/site-packages (from requests<3,>=2->langchain) (2.0.2)\n",
      "Requirement already satisfied: certifi>=2017.4.17 in /Users/chentienan/code/git/github/openai-cookbook/e_k_r.venv/lib/python3.11/site-packages (from requests<3,>=2->langchain) (2023.5.7)\n",
      "Requirement already satisfied: greenlet!=0.4.17 in /Users/chentienan/code/git/github/openai-cookbook/e_k_r.venv/lib/python3.11/site-packages (from SQLAlchemy<3,>=1.4->langchain) (2.0.2)\n",
      "Requirement already satisfied: packaging>=17.0 in /Users/chentienan/code/git/github/openai-cookbook/e_k_r.venv/lib/python3.11/site-packages (from marshmallow<4.0.0,>=3.3.0->dataclasses-json<0.6.0,>=0.5.7->langchain) (23.1)\n",
      "Requirement already satisfied: mypy-extensions>=0.3.0 in /Users/chentienan/code/git/github/openai-cookbook/e_k_r.venv/lib/python3.11/site-packages (from typing-inspect>=0.4.0->dataclasses-json<0.6.0,>=0.5.7->langchain) (1.0.0)\n",
      "Requirement already satisfied: tokenizers in /Users/chentienan/code/git/github/openai-cookbook/e_k_r.venv/lib/python3.11/site-packages (0.13.3)\n",
      "Requirement already satisfied: redis in /Users/chentienan/code/git/github/openai-cookbook/e_k_r.venv/lib/python3.11/site-packages (4.5.5)\n",
      "Requirement already satisfied: python-dotenv in /Users/chentienan/code/git/github/openai-cookbook/e_k_r.venv/lib/python3.11/site-packages (1.0.0)\n"
     ]
    }
   ],
   "source": [
    "!pip install lxml\n",
    "!pip install pytesseract Pillow\n",
    "!pip install atlassian-python-api\n",
    "!pip install langchain\n",
    "!pip install tokenizers\n",
    "!pip install redis\n",
    "!pip install python-dotenv"
   ]
  },
  {
   "cell_type": "code",
   "execution_count": 40,
   "id": "0b2914e4",
   "metadata": {},
   "outputs": [
    {
     "name": "stdout",
     "output_type": "stream",
     "text": [
      "start\n"
     ]
    },
    {
     "ename": "TypeError",
     "evalue": "string indices must be integers, not 'str'",
     "output_type": "error",
     "traceback": [
      "\u001b[0;31m---------------------------------------------------------------------------\u001b[0m",
      "\u001b[0;31mTypeError\u001b[0m                                 Traceback (most recent call last)",
      "Cell \u001b[0;32mIn[40], line 11\u001b[0m\n\u001b[1;32m      9\u001b[0m page_id \u001b[38;5;241m=\u001b[39m \u001b[38;5;241m192873905\u001b[39m\n\u001b[1;32m     10\u001b[0m raw_cql \u001b[38;5;241m=\u001b[39m \u001b[38;5;124mf\u001b[39m\u001b[38;5;124m\"\u001b[39m\u001b[38;5;124mtype = page AND ancestor = \u001b[39m\u001b[38;5;132;01m{\u001b[39;00mpage_id\u001b[38;5;132;01m}\u001b[39;00m\u001b[38;5;124m\"\u001b[39m\n\u001b[0;32m---> 11\u001b[0m documents \u001b[38;5;241m=\u001b[39m \u001b[43mloader\u001b[49m\u001b[38;5;241;43m.\u001b[39;49m\u001b[43mload\u001b[49m\u001b[43m(\u001b[49m\u001b[43mcql\u001b[49m\u001b[38;5;241;43m=\u001b[39;49m\u001b[43mraw_cql\u001b[49m\u001b[43m,\u001b[49m\u001b[43m \u001b[49m\u001b[43minclude_attachments\u001b[49m\u001b[38;5;241;43m=\u001b[39;49m\u001b[38;5;28;43;01mFalse\u001b[39;49;00m\u001b[43m,\u001b[49m\u001b[43m \u001b[49m\u001b[43mlimit\u001b[49m\u001b[38;5;241;43m=\u001b[39;49m\u001b[38;5;241;43m50\u001b[39;49m\u001b[43m)\u001b[49m\n",
      "File \u001b[0;32m~/code/git/github/langchain/langchain/document_loaders/confluence.py:251\u001b[0m, in \u001b[0;36mConfluenceLoader.load\u001b[0;34m(self, space_key, page_ids, label, cql, include_restricted_content, include_archived_content, include_attachments, include_comments, limit, max_pages)\u001b[0m\n\u001b[1;32m    242\u001b[0m pages \u001b[38;5;241m=\u001b[39m \u001b[38;5;28mself\u001b[39m\u001b[38;5;241m.\u001b[39mpaginate_request(\n\u001b[1;32m    243\u001b[0m     \u001b[38;5;28mself\u001b[39m\u001b[38;5;241m.\u001b[39mconfluence\u001b[38;5;241m.\u001b[39mcql,\n\u001b[1;32m    244\u001b[0m     cql\u001b[38;5;241m=\u001b[39mcql,\n\u001b[0;32m   (...)\u001b[0m\n\u001b[1;32m    248\u001b[0m     expand\u001b[38;5;241m=\u001b[39m\u001b[38;5;124m\"\u001b[39m\u001b[38;5;124mbody.storage.value\u001b[39m\u001b[38;5;124m\"\u001b[39m,\n\u001b[1;32m    249\u001b[0m )\n\u001b[1;32m    250\u001b[0m \u001b[38;5;28mprint\u001b[39m(pages[\u001b[38;5;241m1\u001b[39m])\n\u001b[0;32m--> 251\u001b[0m ids_by_cql \u001b[38;5;241m=\u001b[39m \u001b[43m[\u001b[49m\u001b[43mpage\u001b[49m\u001b[43m[\u001b[49m\u001b[38;5;124;43m\"\u001b[39;49m\u001b[38;5;124;43mcontent\u001b[39;49m\u001b[38;5;124;43m\"\u001b[39;49m\u001b[43m]\u001b[49m\u001b[43m[\u001b[49m\u001b[38;5;124;43m\"\u001b[39;49m\u001b[38;5;124;43mid\u001b[39;49m\u001b[38;5;124;43m\"\u001b[39;49m\u001b[43m]\u001b[49m\u001b[43m \u001b[49m\u001b[38;5;28;43;01mfor\u001b[39;49;00m\u001b[43m \u001b[49m\u001b[43mpage\u001b[49m\u001b[43m \u001b[49m\u001b[38;5;129;43;01min\u001b[39;49;00m\u001b[43m \u001b[49m\u001b[43mpages\u001b[49m\u001b[43m]\u001b[49m\n\u001b[1;32m    252\u001b[0m \u001b[38;5;28;01mif\u001b[39;00m page_ids:\n\u001b[1;32m    253\u001b[0m     page_ids \u001b[38;5;241m=\u001b[39m \u001b[38;5;28mlist\u001b[39m(\u001b[38;5;28mset\u001b[39m(page_ids \u001b[38;5;241m+\u001b[39m ids_by_cql))\n",
      "File \u001b[0;32m~/code/git/github/langchain/langchain/document_loaders/confluence.py:251\u001b[0m, in \u001b[0;36m<listcomp>\u001b[0;34m(.0)\u001b[0m\n\u001b[1;32m    242\u001b[0m pages \u001b[38;5;241m=\u001b[39m \u001b[38;5;28mself\u001b[39m\u001b[38;5;241m.\u001b[39mpaginate_request(\n\u001b[1;32m    243\u001b[0m     \u001b[38;5;28mself\u001b[39m\u001b[38;5;241m.\u001b[39mconfluence\u001b[38;5;241m.\u001b[39mcql,\n\u001b[1;32m    244\u001b[0m     cql\u001b[38;5;241m=\u001b[39mcql,\n\u001b[0;32m   (...)\u001b[0m\n\u001b[1;32m    248\u001b[0m     expand\u001b[38;5;241m=\u001b[39m\u001b[38;5;124m\"\u001b[39m\u001b[38;5;124mbody.storage.value\u001b[39m\u001b[38;5;124m\"\u001b[39m,\n\u001b[1;32m    249\u001b[0m )\n\u001b[1;32m    250\u001b[0m \u001b[38;5;28mprint\u001b[39m(pages[\u001b[38;5;241m1\u001b[39m])\n\u001b[0;32m--> 251\u001b[0m ids_by_cql \u001b[38;5;241m=\u001b[39m [\u001b[43mpage\u001b[49m\u001b[43m[\u001b[49m\u001b[38;5;124;43m\"\u001b[39;49m\u001b[38;5;124;43mcontent\u001b[39;49m\u001b[38;5;124;43m\"\u001b[39;49m\u001b[43m]\u001b[49m[\u001b[38;5;124m\"\u001b[39m\u001b[38;5;124mid\u001b[39m\u001b[38;5;124m\"\u001b[39m] \u001b[38;5;28;01mfor\u001b[39;00m page \u001b[38;5;129;01min\u001b[39;00m pages]\n\u001b[1;32m    252\u001b[0m \u001b[38;5;28;01mif\u001b[39;00m page_ids:\n\u001b[1;32m    253\u001b[0m     page_ids \u001b[38;5;241m=\u001b[39m \u001b[38;5;28mlist\u001b[39m(\u001b[38;5;28mset\u001b[39m(page_ids \u001b[38;5;241m+\u001b[39m ids_by_cql))\n",
      "\u001b[0;31mTypeError\u001b[0m: string indices must be integers, not 'str'"
     ]
    }
   ],
   "source": [
    "from langchain.document_loaders import ConfluenceLoader\n",
    "import lxml\n",
    "from dotenv import load_dotenv, find_dotenv\n",
    "_ = load_dotenv(find_dotenv()) # read local .env file\n",
    "\n",
    "loader = ConfluenceLoader(\n",
    "    url=\"https://confluence.zhenguanyu.com/\",\n",
    "    token=os.environ['CONFLUENCE_TOKEN'],\n",
    "    cloud=False\n",
    ")\n",
    "page_id = 192873905\n",
    "raw_cql = f\"type = page AND ancestor = {page_id}\"\n",
    "documents = loader.load(space_key=\"CON\", include_attachments=False, limit=50)"
   ]
  },
  {
   "cell_type": "code",
   "execution_count": 3,
   "id": "8c89bbee",
   "metadata": {},
   "outputs": [
    {
     "name": "stdout",
     "output_type": "stream",
     "text": [
      "424\n"
     ]
    }
   ],
   "source": [
    "print(len(documents))"
   ]
  },
  {
   "cell_type": "code",
   "execution_count": 4,
   "id": "398d4b61",
   "metadata": {},
   "outputs": [
    {
     "name": "stdout",
     "output_type": "stream",
     "text": [
      "535\n"
     ]
    }
   ],
   "source": [
    "from langchain.vectorstores.redis import Redis\n",
    "from langchain.text_splitter import RecursiveCharacterTextSplitter\n",
    "text_splitter = RecursiveCharacterTextSplitter(chunk_size=1000, chunk_overlap=200, length_function = len)\n",
    "docs = text_splitter.split_documents(documents)\n",
    "print(len(docs))"
   ]
  },
  {
   "cell_type": "code",
   "execution_count": 6,
   "id": "f6b45e46",
   "metadata": {},
   "outputs": [],
   "source": [
    "from langchain.embeddings.openai import OpenAIEmbeddings\n",
    "import os\n",
    "\n",
    "embeddings = OpenAIEmbeddings(deployment=\"embeddings_model\", chunk_size=1)\n",
    "db = Redis.from_documents(docs, embeddings, redis_url=\"redis://localhost:6379\", index_name='chat_confluence_new')"
   ]
  },
  {
   "cell_type": "code",
   "execution_count": 29,
   "id": "b33c6bd0",
   "metadata": {},
   "outputs": [],
   "source": [
    "from langchain.chains.conversational_retrieval.base import ConversationalRetrievalChain, _get_chat_history\n",
    "from typing import Dict, Any, Optional, List\n",
    "from langchain.callbacks.manager import CallbackManagerForChainRun\n",
    "from langchain.schema import Document\n",
    "\n",
    "class CustomConversationalRetrievalChain(ConversationalRetrievalChain):\n",
    "    last_source_documents: List[Document] = None\n",
    "\n",
    "    def __init__(self, *args, **kwargs):\n",
    "        super().__init__(*args, **kwargs)\n",
    "        self.last_source_documents = None\n",
    "        \n",
    "    def _call(self, inputs: Dict[str, Any], run_manager: Optional[CallbackManagerForChainRun]=None) -> Dict[str, Any]:\n",
    "        _run_manager = run_manager or CallbackManagerForChainRun.get_noop_manager()\n",
    "        question = inputs['question']\n",
    "        get_chat_history = self.get_chat_history or _get_chat_history\n",
    "        chat_history_str = get_chat_history(inputs['chat_history'])\n",
    "        if chat_history_str:\n",
    "            callbacks = _run_manager.get_child()\n",
    "            new_question = self.question_generator.run(question=question, chat_history=chat_history_str, callbacks=callbacks)\n",
    "        else:\n",
    "            new_question = question\n",
    "        docs = self._get_docs(new_question, inputs)\n",
    "        new_inputs = inputs.copy()\n",
    "        new_inputs['question'] = new_question\n",
    "        new_inputs['chat_history'] = chat_history_str\n",
    "        answer = self.combine_docs_chain.run(input_documents=docs, callbacks=_run_manager.get_child(), **new_inputs)\n",
    "        self.last_source_documents = docs\n",
    "        return {self.output_key: answer}\n",
    "\n"
   ]
  },
  {
   "cell_type": "code",
   "execution_count": 38,
   "id": "def801dd",
   "metadata": {},
   "outputs": [
    {
     "name": "stdout",
     "output_type": "stream",
     "text": [
      "\u001b[32;1m\u001b[1;3m[chain/start]\u001b[0m \u001b[1m[1:RunTypeEnum.chain:CustomConversationalRetrievalChain] Entering Chain run with input:\n",
      "\u001b[0m{\n",
      "  \"question\": \"How to create a service?\",\n",
      "  \"chat_history\": []\n",
      "}\n",
      "\u001b[32;1m\u001b[1;3m[chain/start]\u001b[0m \u001b[1m[1:RunTypeEnum.chain:CustomConversationalRetrievalChain > 2:RunTypeEnum.chain:StuffDocumentsChain] Entering Chain run with input:\n",
      "\u001b[0m[inputs]\n",
      "\u001b[32;1m\u001b[1;3m[chain/start]\u001b[0m \u001b[1m[1:RunTypeEnum.chain:CustomConversationalRetrievalChain > 2:RunTypeEnum.chain:StuffDocumentsChain > 3:RunTypeEnum.chain:LLMChain] Entering Chain run with input:\n",
      "\u001b[0m{\n",
      "  \"question\": \"How to create a service?\",\n",
      "  \"context\": \"1 \\u5982\\u4f55\\u5728 Console \\u4e0a\\u65b0\\u5efa\\u670d\\u52a1\\uff0c\\u9700\\u8981\\u63d0\\u4f9b\\u4ec0\\u4e48\\u4fe1\\u606f\\u70b9\\u51fbConsole\\u53f3\\u4e0a\\u89d2\\u7684oncall\\uff0c\\u63d0oncall\\u5904\\u7406\\u3002oncall\\u9700\\u8981\\u586b\\u5199\\u7684\\u4fe1\\u606f\\u5982\\u4e0b\\uff1a\\u7cfb\\u7edf\\uff1aConsole\\u7c7b\\u578b\\uff1a\\u95ee\\u9898\\u53cd\\u9988\\u7c7b\\u6982\\u8981\\uff1a\\u65b0\\u5efa\\u670d\\u52a1gerrit\\u9879\\u76ee\\u540d\\uff1a\\u4f60\\u7684\\u9879\\u76ee\\u540d\\uff0c\\u5982infra-fake-project\\u670d\\u52a1\\u540d\\uff1a\\u4f60\\u7684\\u670d\\u52a1\\u540d\\uff0c\\u5982\\uff1ainfra-fake-service\\u63cf\\u8ff0\\uff1a\\u00a0\\u670d\\u52a1\\u7c7b\\u578b\\uff1ahttp/rpc\\uff0c\\u9759\\u6001\\u670d\\u52a1\\uff0cxxl-job\\u670d\\u52a1\\uff0c\\u4e09\\u9009\\u4e00\\u670d\\u52a1\\u7aef\\u53e3\\uff1a\\u59828080\\u5982\\u4e0b\\u56fe\\uff1a\\u63d0\\u4ea4oncall\\u540e\\uff0c\\u4f1a\\u6709\\u4e13\\u4eba\\u5904\\u7406\\uff08\\u4e00\\u822c10min\\u4e4b\\u5185\\u4f1a\\u5904\\u7406\\uff09\\u30022 \\u5982\\u4f55\\u7533\\u8bf7\\u670d\\u52a1\\u6240\\u9700\\u7684\\u673a\\u5668\\u8d44\\u6e90\\u65b0\\u5efa\\u670d\\u52a1\\u540e\\uff0c\\u4f1a\\u5728\\u300e\\u670d\\u52a1\\u5217\\u8868\\u300f\\u4e2d\\u5c55\\u793a\\u5bf9\\u5e94\\u7684\\u670d\\u52a1\\u3002\\u5982\\u679c\\u662fservice\\u5e73\\u53f0\\u90e8\\u7f72\\uff0c\\u70b9\\u51fb\\u300e\\u7533\\u8bf7service\\u5e73\\u53f0\\u670d\\u52a1\\u5de5\\u5355\\u300f\\uff1b\\u7533\\u8bf7\\u5de5\\u5355\\u540e\\uff0c\\u627e\\u8fd0\\u7ef4\\u5ba1\\u6838\\u3002\\u5982\\u679c\\u662fk8s \\u90e8\\u7f72\\uff0c\\u70b9\\u300e\\u4fee\\u6539k8s\\u670d\\u52a1\\u73af\\u5883\\u4fe1\\u606f\\u300f\\uff0c\\u586b\\u5199\\u597d\\u5bf9\\u5e94\\u4fe1\\u606f\\u540e\\uff0c\\u4fdd\\u5b58\\u5373\\u53ef\\uff0c\\u65e0\\u9700\\u5ba1\\u6838\\uff08k8s\\u5728\\u90e8\\u7f72\\u65f6\\uff0c\\u4f1a\\u81ea\\u52a8\\u8c03\\u5ea6\\u673a\\u5668\\u8d44\\u6e90\\uff09\\u3002\\u5982\\u4e0b\\u56fe\\uff1a\\n\\n1 \\u5982\\u4f55\\u5728 Console \\u4e0a\\u65b0\\u5efa\\u670d\\u52a1\\uff0c\\u9700\\u8981\\u63d0\\u4f9b\\u4ec0\\u4e48\\u4fe1\\u606f\\u70b9\\u51fbConsole\\u53f3\\u4e0a\\u89d2\\u7684oncall\\uff0c\\u63d0oncall\\u5904\\u7406\\u3002oncall\\u9700\\u8981\\u586b\\u5199\\u7684\\u4fe1\\u606f\\u5982\\u4e0b\\uff1a\\u7cfb\\u7edf\\uff1aConsole\\u7c7b\\u578b\\uff1a\\u95ee\\u9898\\u53cd\\u9988\\u7c7b\\u6982\\u8981\\uff1a\\u65b0\\u5efa\\u670d\\u52a1gerrit\\u9879\\u76ee\\u540d\\uff1a\\u4f60\\u7684\\u9879\\u76ee\\u540d\\uff0c\\u5982infra-fake-project\\u670d\\u52a1\\u540d\\uff1a\\u4f60\\u7684\\u670d\\u52a1\\u540d\\uff0c\\u5982\\uff1ainfra-fake-service\\u63cf\\u8ff0\\uff1a\\u00a0\\u670d\\u52a1\\u7c7b\\u578b\\uff1ahttp/rpc\\uff0c\\u9759\\u6001\\u670d\\u52a1\\uff0cxxl-job\\u670d\\u52a1\\uff0c\\u4e09\\u9009\\u4e00\\u670d\\u52a1\\u7aef\\u53e3\\uff1a\\u59828080\\u5982\\u4e0b\\u56fe\\uff1a\\u63d0\\u4ea4oncall\\u540e\\uff0c\\u4f1a\\u6709\\u4e13\\u4eba\\u5904\\u7406\\uff08\\u4e00\\u822c10min\\u4e4b\\u5185\\u4f1a\\u5904\\u7406\\uff09\\u30022 \\u5982\\u4f55\\u7533\\u8bf7\\u670d\\u52a1\\u6240\\u9700\\u7684\\u673a\\u5668\\u8d44\\u6e90\\u65b0\\u5efa\\u670d\\u52a1\\u540e\\uff0c\\u4f1a\\u5728\\u300e\\u670d\\u52a1\\u5217\\u8868\\u300f\\u4e2d\\u5c55\\u793a\\u5bf9\\u5e94\\u7684\\u670d\\u52a1\\u3002\\u5982\\u679c\\u662fservice\\u5e73\\u53f0\\u90e8\\u7f72\\uff0c\\u70b9\\u51fb\\u300e\\u7533\\u8bf7service\\u5e73\\u53f0\\u670d\\u52a1\\u5de5\\u5355\\u300f\\uff1b\\u7533\\u8bf7\\u5de5\\u5355\\u540e\\uff0c\\u627e\\u8fd0\\u7ef4\\u5ba1\\u6838\\u3002\\u5982\\u679c\\u662fk8s \\u90e8\\u7f72\\uff0c\\u70b9\\u300e\\u4fee\\u6539k8s\\u670d\\u52a1\\u73af\\u5883\\u4fe1\\u606f\\u300f\\uff0c\\u586b\\u5199\\u597d\\u5bf9\\u5e94\\u4fe1\\u606f\\u540e\\uff0c\\u4fdd\\u5b58\\u5373\\u53ef\\uff0c\\u65e0\\u9700\\u5ba1\\u6838\\uff08k8s\\u5728\\u90e8\\u7f72\\u65f6\\uff0c\\u4f1a\\u81ea\\u52a8\\u8c03\\u5ea6\\u673a\\u5668\\u8d44\\u6e90\\uff09\\u3002\\u5982\\u4e0b\\u56fe\\uff1a\\n\\n\\u4e00\\u3001\\u65b0\\u5efa\\u670d\\u52a1\\u5f39\\u6846\\u5728\\u670d\\u52a1\\u5217\\u8868\\u9875\\u70b9\\u51fb \\u201d\\u65b0\\u5efa\\u670d\\u52a1\\u201c \\u6309\\u94ae\\u6253\\u5f00\\u65b0\\u5efa\\u670d\\u52a1\\u5f39\\u6846\\u540e\\uff0c\\u6709\\u4e09\\u79cd\\u7c7b\\u578b\\u7684\\u670d\\u52a1\\u53ef\\u9009\\uff1ahttp/rpc\\u3001\\u79bb\\u7ebf job\\u3001\\u9759\\u6001\\u670d\\u52a1\\uff081\\uff09http/rpc \\u670d\\u52a1\\uff082\\uff09\\u79bb\\u7ebf job\\uff083\\uff09\\u9759\\u6001\\u670d\\u52a1\\u4e8c\\u3001\\u65b0\\u5efa\\u6210\\u529f\\u540e\\u8df3\\u8f6c\\u670d\\u52a1\\u65b0\\u5efa\\u6210\\u529f\\u540e\\uff0c\\u4f1a\\u63d0\\u793a\\u7528\\u6237\\u53bb\\u914d\\u7f6e\\u73af\\u5883\\u4fe1\\u606f\\u70b9\\u51fb \\u201d\\u53bb\\u914d\\u7f6e\\u201c\\uff0c\\u8df3\\u8f6c\\u5230\\u914d\\u7f6e\\u9875\\u9762\\uff0c\\n\\n\\u8981\\u914d\\u7f6e\\u670d\\u52a1\\uff0c\\u9996\\u5148\\u8981\\u5bf9\\u5f53\\u524d\\u9879\\u76ee\\u4e2d\\u7684\\u670d\\u52a1\\u8fdb\\u884c\\u9009\\u62e9\\u3002\\u4e00\\u3001\\u64cd\\u4f5c1.\\u7f16\\u8f91\\u5bf9\\u4e8e\\u5df2\\u7ecf\\u914d\\u7f6e\\u4e86\\u73af\\u5883\\u4fe1\\u606f\\u7684\\u670d\\u52a1\\uff0c\\u4f1a\\u8fdb\\u884c\\u6570\\u636e\\u586b\\u5145\\uff0c\\u53ef\\u4ee5\\u5728\\u8fd9\\u4e2a\\u9875\\u9762\\u4e2d\\u76f4\\u63a5\\u8fdb\\u884c\\u7f16\\u8f91\\u30022.\\u65b0\\u914d\\u7f6e\\u65b0\\u5efa\\u670d\\u52a1\\u7684\\u73af\\u5883\\u4fe1\\u606f\\u5c1a\\u672a\\u586b\\u5145\\uff0c\\u56e0\\u6b64\\u9009\\u62e9\\u8fd9\\u4e2a\\u670d\\u52a1\\u7684\\u65f6\\u5019\\uff0c\\u8868\\u5355\\u5b57\\u6bb5\\u90fd\\u662f\\u7a7a\\u7684\\uff0c\\u53ef\\u4ee5\\u5728\\u8fd9\\u91cc\\u8fdb\\u884c\\u586b\\u5145\\u3002\\uff08\\u8865\\u56fe\\uff09\\u4e8c\\u3001\\u8fd0\\u884c\\u8f7d\\u4f53\\u4e0d\\u540c\\u7684\\u8fd0\\u884c\\u8f7d\\u4f53\\uff0c\\u9700\\u914d\\u7f6e\\u4e0d\\u540c\\u7684\\u73af\\u5883\\u4fe1\\u606f\\uff0c\\u4e09\\u3001\\u5e94\\u7528\\u7c7b\\u578bSTATIC \\u9759\\u6001\\u670d\\u52a1\\uff0c\\u6ca1\\u6709\\u8f7d\\u4f53\\u7684\\u6982\\u5ff5\\uff0c\\u9700\\u8981\\u914d\\u7f6e oss \\u4fe1\\u606f\\u3002\"\n",
      "}\n",
      "\u001b[32;1m\u001b[1;3m[llm/start]\u001b[0m \u001b[1m[1:RunTypeEnum.chain:CustomConversationalRetrievalChain > 2:RunTypeEnum.chain:StuffDocumentsChain > 3:RunTypeEnum.chain:LLMChain > 4:RunTypeEnum.llm:AzureChatOpenAI] Entering LLM run with input:\n",
      "\u001b[0m{\n",
      "  \"prompts\": [\n",
      "    \"System: Use the following pieces of context to answer the users question. \\nIf you don't know the answer, just say that you don't know, don't try to make up an answer.\\n----------------\\n1 \\u5982\\u4f55\\u5728 Console \\u4e0a\\u65b0\\u5efa\\u670d\\u52a1\\uff0c\\u9700\\u8981\\u63d0\\u4f9b\\u4ec0\\u4e48\\u4fe1\\u606f\\u70b9\\u51fbConsole\\u53f3\\u4e0a\\u89d2\\u7684oncall\\uff0c\\u63d0oncall\\u5904\\u7406\\u3002oncall\\u9700\\u8981\\u586b\\u5199\\u7684\\u4fe1\\u606f\\u5982\\u4e0b\\uff1a\\u7cfb\\u7edf\\uff1aConsole\\u7c7b\\u578b\\uff1a\\u95ee\\u9898\\u53cd\\u9988\\u7c7b\\u6982\\u8981\\uff1a\\u65b0\\u5efa\\u670d\\u52a1gerrit\\u9879\\u76ee\\u540d\\uff1a\\u4f60\\u7684\\u9879\\u76ee\\u540d\\uff0c\\u5982infra-fake-project\\u670d\\u52a1\\u540d\\uff1a\\u4f60\\u7684\\u670d\\u52a1\\u540d\\uff0c\\u5982\\uff1ainfra-fake-service\\u63cf\\u8ff0\\uff1a\\u00a0\\u670d\\u52a1\\u7c7b\\u578b\\uff1ahttp/rpc\\uff0c\\u9759\\u6001\\u670d\\u52a1\\uff0cxxl-job\\u670d\\u52a1\\uff0c\\u4e09\\u9009\\u4e00\\u670d\\u52a1\\u7aef\\u53e3\\uff1a\\u59828080\\u5982\\u4e0b\\u56fe\\uff1a\\u63d0\\u4ea4oncall\\u540e\\uff0c\\u4f1a\\u6709\\u4e13\\u4eba\\u5904\\u7406\\uff08\\u4e00\\u822c10min\\u4e4b\\u5185\\u4f1a\\u5904\\u7406\\uff09\\u30022 \\u5982\\u4f55\\u7533\\u8bf7\\u670d\\u52a1\\u6240\\u9700\\u7684\\u673a\\u5668\\u8d44\\u6e90\\u65b0\\u5efa\\u670d\\u52a1\\u540e\\uff0c\\u4f1a\\u5728\\u300e\\u670d\\u52a1\\u5217\\u8868\\u300f\\u4e2d\\u5c55\\u793a\\u5bf9\\u5e94\\u7684\\u670d\\u52a1\\u3002\\u5982\\u679c\\u662fservice\\u5e73\\u53f0\\u90e8\\u7f72\\uff0c\\u70b9\\u51fb\\u300e\\u7533\\u8bf7service\\u5e73\\u53f0\\u670d\\u52a1\\u5de5\\u5355\\u300f\\uff1b\\u7533\\u8bf7\\u5de5\\u5355\\u540e\\uff0c\\u627e\\u8fd0\\u7ef4\\u5ba1\\u6838\\u3002\\u5982\\u679c\\u662fk8s \\u90e8\\u7f72\\uff0c\\u70b9\\u300e\\u4fee\\u6539k8s\\u670d\\u52a1\\u73af\\u5883\\u4fe1\\u606f\\u300f\\uff0c\\u586b\\u5199\\u597d\\u5bf9\\u5e94\\u4fe1\\u606f\\u540e\\uff0c\\u4fdd\\u5b58\\u5373\\u53ef\\uff0c\\u65e0\\u9700\\u5ba1\\u6838\\uff08k8s\\u5728\\u90e8\\u7f72\\u65f6\\uff0c\\u4f1a\\u81ea\\u52a8\\u8c03\\u5ea6\\u673a\\u5668\\u8d44\\u6e90\\uff09\\u3002\\u5982\\u4e0b\\u56fe\\uff1a\\n\\n1 \\u5982\\u4f55\\u5728 Console \\u4e0a\\u65b0\\u5efa\\u670d\\u52a1\\uff0c\\u9700\\u8981\\u63d0\\u4f9b\\u4ec0\\u4e48\\u4fe1\\u606f\\u70b9\\u51fbConsole\\u53f3\\u4e0a\\u89d2\\u7684oncall\\uff0c\\u63d0oncall\\u5904\\u7406\\u3002oncall\\u9700\\u8981\\u586b\\u5199\\u7684\\u4fe1\\u606f\\u5982\\u4e0b\\uff1a\\u7cfb\\u7edf\\uff1aConsole\\u7c7b\\u578b\\uff1a\\u95ee\\u9898\\u53cd\\u9988\\u7c7b\\u6982\\u8981\\uff1a\\u65b0\\u5efa\\u670d\\u52a1gerrit\\u9879\\u76ee\\u540d\\uff1a\\u4f60\\u7684\\u9879\\u76ee\\u540d\\uff0c\\u5982infra-fake-project\\u670d\\u52a1\\u540d\\uff1a\\u4f60\\u7684\\u670d\\u52a1\\u540d\\uff0c\\u5982\\uff1ainfra-fake-service\\u63cf\\u8ff0\\uff1a\\u00a0\\u670d\\u52a1\\u7c7b\\u578b\\uff1ahttp/rpc\\uff0c\\u9759\\u6001\\u670d\\u52a1\\uff0cxxl-job\\u670d\\u52a1\\uff0c\\u4e09\\u9009\\u4e00\\u670d\\u52a1\\u7aef\\u53e3\\uff1a\\u59828080\\u5982\\u4e0b\\u56fe\\uff1a\\u63d0\\u4ea4oncall\\u540e\\uff0c\\u4f1a\\u6709\\u4e13\\u4eba\\u5904\\u7406\\uff08\\u4e00\\u822c10min\\u4e4b\\u5185\\u4f1a\\u5904\\u7406\\uff09\\u30022 \\u5982\\u4f55\\u7533\\u8bf7\\u670d\\u52a1\\u6240\\u9700\\u7684\\u673a\\u5668\\u8d44\\u6e90\\u65b0\\u5efa\\u670d\\u52a1\\u540e\\uff0c\\u4f1a\\u5728\\u300e\\u670d\\u52a1\\u5217\\u8868\\u300f\\u4e2d\\u5c55\\u793a\\u5bf9\\u5e94\\u7684\\u670d\\u52a1\\u3002\\u5982\\u679c\\u662fservice\\u5e73\\u53f0\\u90e8\\u7f72\\uff0c\\u70b9\\u51fb\\u300e\\u7533\\u8bf7service\\u5e73\\u53f0\\u670d\\u52a1\\u5de5\\u5355\\u300f\\uff1b\\u7533\\u8bf7\\u5de5\\u5355\\u540e\\uff0c\\u627e\\u8fd0\\u7ef4\\u5ba1\\u6838\\u3002\\u5982\\u679c\\u662fk8s \\u90e8\\u7f72\\uff0c\\u70b9\\u300e\\u4fee\\u6539k8s\\u670d\\u52a1\\u73af\\u5883\\u4fe1\\u606f\\u300f\\uff0c\\u586b\\u5199\\u597d\\u5bf9\\u5e94\\u4fe1\\u606f\\u540e\\uff0c\\u4fdd\\u5b58\\u5373\\u53ef\\uff0c\\u65e0\\u9700\\u5ba1\\u6838\\uff08k8s\\u5728\\u90e8\\u7f72\\u65f6\\uff0c\\u4f1a\\u81ea\\u52a8\\u8c03\\u5ea6\\u673a\\u5668\\u8d44\\u6e90\\uff09\\u3002\\u5982\\u4e0b\\u56fe\\uff1a\\n\\n\\u4e00\\u3001\\u65b0\\u5efa\\u670d\\u52a1\\u5f39\\u6846\\u5728\\u670d\\u52a1\\u5217\\u8868\\u9875\\u70b9\\u51fb \\u201d\\u65b0\\u5efa\\u670d\\u52a1\\u201c \\u6309\\u94ae\\u6253\\u5f00\\u65b0\\u5efa\\u670d\\u52a1\\u5f39\\u6846\\u540e\\uff0c\\u6709\\u4e09\\u79cd\\u7c7b\\u578b\\u7684\\u670d\\u52a1\\u53ef\\u9009\\uff1ahttp/rpc\\u3001\\u79bb\\u7ebf job\\u3001\\u9759\\u6001\\u670d\\u52a1\\uff081\\uff09http/rpc \\u670d\\u52a1\\uff082\\uff09\\u79bb\\u7ebf job\\uff083\\uff09\\u9759\\u6001\\u670d\\u52a1\\u4e8c\\u3001\\u65b0\\u5efa\\u6210\\u529f\\u540e\\u8df3\\u8f6c\\u670d\\u52a1\\u65b0\\u5efa\\u6210\\u529f\\u540e\\uff0c\\u4f1a\\u63d0\\u793a\\u7528\\u6237\\u53bb\\u914d\\u7f6e\\u73af\\u5883\\u4fe1\\u606f\\u70b9\\u51fb \\u201d\\u53bb\\u914d\\u7f6e\\u201c\\uff0c\\u8df3\\u8f6c\\u5230\\u914d\\u7f6e\\u9875\\u9762\\uff0c\\n\\n\\u8981\\u914d\\u7f6e\\u670d\\u52a1\\uff0c\\u9996\\u5148\\u8981\\u5bf9\\u5f53\\u524d\\u9879\\u76ee\\u4e2d\\u7684\\u670d\\u52a1\\u8fdb\\u884c\\u9009\\u62e9\\u3002\\u4e00\\u3001\\u64cd\\u4f5c1.\\u7f16\\u8f91\\u5bf9\\u4e8e\\u5df2\\u7ecf\\u914d\\u7f6e\\u4e86\\u73af\\u5883\\u4fe1\\u606f\\u7684\\u670d\\u52a1\\uff0c\\u4f1a\\u8fdb\\u884c\\u6570\\u636e\\u586b\\u5145\\uff0c\\u53ef\\u4ee5\\u5728\\u8fd9\\u4e2a\\u9875\\u9762\\u4e2d\\u76f4\\u63a5\\u8fdb\\u884c\\u7f16\\u8f91\\u30022.\\u65b0\\u914d\\u7f6e\\u65b0\\u5efa\\u670d\\u52a1\\u7684\\u73af\\u5883\\u4fe1\\u606f\\u5c1a\\u672a\\u586b\\u5145\\uff0c\\u56e0\\u6b64\\u9009\\u62e9\\u8fd9\\u4e2a\\u670d\\u52a1\\u7684\\u65f6\\u5019\\uff0c\\u8868\\u5355\\u5b57\\u6bb5\\u90fd\\u662f\\u7a7a\\u7684\\uff0c\\u53ef\\u4ee5\\u5728\\u8fd9\\u91cc\\u8fdb\\u884c\\u586b\\u5145\\u3002\\uff08\\u8865\\u56fe\\uff09\\u4e8c\\u3001\\u8fd0\\u884c\\u8f7d\\u4f53\\u4e0d\\u540c\\u7684\\u8fd0\\u884c\\u8f7d\\u4f53\\uff0c\\u9700\\u914d\\u7f6e\\u4e0d\\u540c\\u7684\\u73af\\u5883\\u4fe1\\u606f\\uff0c\\u4e09\\u3001\\u5e94\\u7528\\u7c7b\\u578bSTATIC \\u9759\\u6001\\u670d\\u52a1\\uff0c\\u6ca1\\u6709\\u8f7d\\u4f53\\u7684\\u6982\\u5ff5\\uff0c\\u9700\\u8981\\u914d\\u7f6e oss \\u4fe1\\u606f\\u3002\\nHuman: How to create a service?\"\n",
      "  ]\n",
      "}\n"
     ]
    },
    {
     "name": "stdout",
     "output_type": "stream",
     "text": [
      "\u001b[36;1m\u001b[1;3m[llm/end]\u001b[0m \u001b[1m[1:RunTypeEnum.chain:CustomConversationalRetrievalChain > 2:RunTypeEnum.chain:StuffDocumentsChain > 3:RunTypeEnum.chain:LLMChain > 4:RunTypeEnum.llm:AzureChatOpenAI] [4.40s] Exiting LLM run with output:\n",
      "\u001b[0m{\n",
      "  \"generations\": [\n",
      "    [\n",
      "      {\n",
      "        \"text\": \"To create a service, click on the \\\"New Service\\\" button on the service list page. In the pop-up window, you will need to provide the following information: system, console type, summary, gerrit project name, service name, description, service type (HTTP/RPC, static service, or XXL-Job service), and service port. After submitting the request, a specialist will handle it within 10 minutes. Once the service is created, you can apply for machine resources by clicking on \\\"Apply for Service Platform Service Order\\\" for service platform deployment or \\\"Modify K8s Service Environment Information\\\" for K8s deployment. If you choose the latter, you can simply fill in the corresponding information and save it without needing any further approval.\",\n",
      "        \"generation_info\": null,\n",
      "        \"message\": {\n",
      "          \"content\": \"To create a service, click on the \\\"New Service\\\" button on the service list page. In the pop-up window, you will need to provide the following information: system, console type, summary, gerrit project name, service name, description, service type (HTTP/RPC, static service, or XXL-Job service), and service port. After submitting the request, a specialist will handle it within 10 minutes. Once the service is created, you can apply for machine resources by clicking on \\\"Apply for Service Platform Service Order\\\" for service platform deployment or \\\"Modify K8s Service Environment Information\\\" for K8s deployment. If you choose the latter, you can simply fill in the corresponding information and save it without needing any further approval.\",\n",
      "          \"additional_kwargs\": {},\n",
      "          \"example\": false\n",
      "        }\n",
      "      }\n",
      "    ]\n",
      "  ],\n",
      "  \"llm_output\": {\n",
      "    \"token_usage\": {\n",
      "      \"completion_tokens\": 154,\n",
      "      \"prompt_tokens\": 873,\n",
      "      \"total_tokens\": 1027\n",
      "    },\n",
      "    \"model_name\": \"gpt-35-turbo\"\n",
      "  }\n",
      "}\n",
      "\u001b[36;1m\u001b[1;3m[chain/end]\u001b[0m \u001b[1m[1:RunTypeEnum.chain:CustomConversationalRetrievalChain > 2:RunTypeEnum.chain:StuffDocumentsChain > 3:RunTypeEnum.chain:LLMChain] [4.40s] Exiting Chain run with output:\n",
      "\u001b[0m{\n",
      "  \"text\": \"To create a service, click on the \\\"New Service\\\" button on the service list page. In the pop-up window, you will need to provide the following information: system, console type, summary, gerrit project name, service name, description, service type (HTTP/RPC, static service, or XXL-Job service), and service port. After submitting the request, a specialist will handle it within 10 minutes. Once the service is created, you can apply for machine resources by clicking on \\\"Apply for Service Platform Service Order\\\" for service platform deployment or \\\"Modify K8s Service Environment Information\\\" for K8s deployment. If you choose the latter, you can simply fill in the corresponding information and save it without needing any further approval.\"\n",
      "}\n",
      "\u001b[36;1m\u001b[1;3m[chain/end]\u001b[0m \u001b[1m[1:RunTypeEnum.chain:CustomConversationalRetrievalChain > 2:RunTypeEnum.chain:StuffDocumentsChain] [4.40s] Exiting Chain run with output:\n",
      "\u001b[0m{\n",
      "  \"output_text\": \"To create a service, click on the \\\"New Service\\\" button on the service list page. In the pop-up window, you will need to provide the following information: system, console type, summary, gerrit project name, service name, description, service type (HTTP/RPC, static service, or XXL-Job service), and service port. After submitting the request, a specialist will handle it within 10 minutes. Once the service is created, you can apply for machine resources by clicking on \\\"Apply for Service Platform Service Order\\\" for service platform deployment or \\\"Modify K8s Service Environment Information\\\" for K8s deployment. If you choose the latter, you can simply fill in the corresponding information and save it without needing any further approval.\"\n",
      "}\n",
      "\u001b[36;1m\u001b[1;3m[chain/end]\u001b[0m \u001b[1m[1:RunTypeEnum.chain:CustomConversationalRetrievalChain] [7.26s] Exiting Chain run with output:\n",
      "\u001b[0m{\n",
      "  \"answer\": \"To create a service, click on the \\\"New Service\\\" button on the service list page. In the pop-up window, you will need to provide the following information: system, console type, summary, gerrit project name, service name, description, service type (HTTP/RPC, static service, or XXL-Job service), and service port. After submitting the request, a specialist will handle it within 10 minutes. Once the service is created, you can apply for machine resources by clicking on \\\"Apply for Service Platform Service Order\\\" for service platform deployment or \\\"Modify K8s Service Environment Information\\\" for K8s deployment. If you choose the latter, you can simply fill in the corresponding information and save it without needing any further approval.\"\n",
      "}\n",
      "\u001b[32;1m\u001b[1;3m[chain/start]\u001b[0m \u001b[1m[1:RunTypeEnum.chain:CustomConversationalRetrievalChain] Entering Chain run with input:\n",
      "\u001b[0m[inputs]\n",
      "\u001b[32;1m\u001b[1;3m[chain/start]\u001b[0m \u001b[1m[1:RunTypeEnum.chain:CustomConversationalRetrievalChain > 2:RunTypeEnum.chain:LLMChain] Entering Chain run with input:\n",
      "\u001b[0m{\n",
      "  \"question\": \"\",\n",
      "  \"chat_history\": \"\\nHuman: How to create a service?\\nAssistant: To create a service, click on the \\\"New Service\\\" button on the service list page. In the pop-up window, you will need to provide the following information: system, console type, summary, gerrit project name, service name, description, service type (HTTP/RPC, static service, or XXL-Job service), and service port. After submitting the request, a specialist will handle it within 10 minutes. Once the service is created, you can apply for machine resources by clicking on \\\"Apply for Service Platform Service Order\\\" for service platform deployment or \\\"Modify K8s Service Environment Information\\\" for K8s deployment. If you choose the latter, you can simply fill in the corresponding information and save it without needing any further approval.\"\n",
      "}\n",
      "\u001b[32;1m\u001b[1;3m[llm/start]\u001b[0m \u001b[1m[1:RunTypeEnum.chain:CustomConversationalRetrievalChain > 2:RunTypeEnum.chain:LLMChain > 3:RunTypeEnum.llm:AzureChatOpenAI] Entering LLM run with input:\n",
      "\u001b[0m{\n",
      "  \"prompts\": [\n",
      "    \"Human: Given the following conversation and a follow up question, rephrase the follow up question to be a standalone question, in its original language.\\n\\nChat History:\\n\\nHuman: How to create a service?\\nAssistant: To create a service, click on the \\\"New Service\\\" button on the service list page. In the pop-up window, you will need to provide the following information: system, console type, summary, gerrit project name, service name, description, service type (HTTP/RPC, static service, or XXL-Job service), and service port. After submitting the request, a specialist will handle it within 10 minutes. Once the service is created, you can apply for machine resources by clicking on \\\"Apply for Service Platform Service Order\\\" for service platform deployment or \\\"Modify K8s Service Environment Information\\\" for K8s deployment. If you choose the latter, you can simply fill in the corresponding information and save it without needing any further approval.\\nFollow Up Input: \\nStandalone question:\"\n",
      "  ]\n",
      "}\n",
      "\u001b[36;1m\u001b[1;3m[llm/end]\u001b[0m \u001b[1m[1:RunTypeEnum.chain:CustomConversationalRetrievalChain > 2:RunTypeEnum.chain:LLMChain > 3:RunTypeEnum.llm:AzureChatOpenAI] [932.216ms] Exiting LLM run with output:\n",
      "\u001b[0m{\n",
      "  \"generations\": [\n",
      "    [\n",
      "      {\n",
      "        \"text\": \"What information do I need to provide when creating a service?\",\n",
      "        \"generation_info\": null,\n",
      "        \"message\": {\n",
      "          \"content\": \"What information do I need to provide when creating a service?\",\n",
      "          \"additional_kwargs\": {},\n",
      "          \"example\": false\n",
      "        }\n",
      "      }\n",
      "    ]\n",
      "  ],\n",
      "  \"llm_output\": {\n",
      "    \"token_usage\": {\n",
      "      \"completion_tokens\": 12,\n",
      "      \"prompt_tokens\": 211,\n",
      "      \"total_tokens\": 223\n",
      "    },\n",
      "    \"model_name\": \"gpt-35-turbo\"\n",
      "  }\n",
      "}\n",
      "\u001b[36;1m\u001b[1;3m[chain/end]\u001b[0m \u001b[1m[1:RunTypeEnum.chain:CustomConversationalRetrievalChain > 2:RunTypeEnum.chain:LLMChain] [932.962ms] Exiting Chain run with output:\n",
      "\u001b[0m{\n",
      "  \"text\": \"What information do I need to provide when creating a service?\"\n",
      "}\n"
     ]
    },
    {
     "name": "stdout",
     "output_type": "stream",
     "text": [
      "\u001b[32;1m\u001b[1;3m[chain/start]\u001b[0m \u001b[1m[1:RunTypeEnum.chain:CustomConversationalRetrievalChain > 4:RunTypeEnum.chain:StuffDocumentsChain] Entering Chain run with input:\n",
      "\u001b[0m[inputs]\n",
      "\u001b[32;1m\u001b[1;3m[chain/start]\u001b[0m \u001b[1m[1:RunTypeEnum.chain:CustomConversationalRetrievalChain > 4:RunTypeEnum.chain:StuffDocumentsChain > 5:RunTypeEnum.chain:LLMChain] Entering Chain run with input:\n",
      "\u001b[0m{\n",
      "  \"question\": \"What information do I need to provide when creating a service?\",\n",
      "  \"context\": \"1 \\u5982\\u4f55\\u5728 Console \\u4e0a\\u65b0\\u5efa\\u670d\\u52a1\\uff0c\\u9700\\u8981\\u63d0\\u4f9b\\u4ec0\\u4e48\\u4fe1\\u606f\\u70b9\\u51fbConsole\\u53f3\\u4e0a\\u89d2\\u7684oncall\\uff0c\\u63d0oncall\\u5904\\u7406\\u3002oncall\\u9700\\u8981\\u586b\\u5199\\u7684\\u4fe1\\u606f\\u5982\\u4e0b\\uff1a\\u7cfb\\u7edf\\uff1aConsole\\u7c7b\\u578b\\uff1a\\u95ee\\u9898\\u53cd\\u9988\\u7c7b\\u6982\\u8981\\uff1a\\u65b0\\u5efa\\u670d\\u52a1gerrit\\u9879\\u76ee\\u540d\\uff1a\\u4f60\\u7684\\u9879\\u76ee\\u540d\\uff0c\\u5982infra-fake-project\\u670d\\u52a1\\u540d\\uff1a\\u4f60\\u7684\\u670d\\u52a1\\u540d\\uff0c\\u5982\\uff1ainfra-fake-service\\u63cf\\u8ff0\\uff1a\\u00a0\\u670d\\u52a1\\u7c7b\\u578b\\uff1ahttp/rpc\\uff0c\\u9759\\u6001\\u670d\\u52a1\\uff0cxxl-job\\u670d\\u52a1\\uff0c\\u4e09\\u9009\\u4e00\\u670d\\u52a1\\u7aef\\u53e3\\uff1a\\u59828080\\u5982\\u4e0b\\u56fe\\uff1a\\u63d0\\u4ea4oncall\\u540e\\uff0c\\u4f1a\\u6709\\u4e13\\u4eba\\u5904\\u7406\\uff08\\u4e00\\u822c10min\\u4e4b\\u5185\\u4f1a\\u5904\\u7406\\uff09\\u30022 \\u5982\\u4f55\\u7533\\u8bf7\\u670d\\u52a1\\u6240\\u9700\\u7684\\u673a\\u5668\\u8d44\\u6e90\\u65b0\\u5efa\\u670d\\u52a1\\u540e\\uff0c\\u4f1a\\u5728\\u300e\\u670d\\u52a1\\u5217\\u8868\\u300f\\u4e2d\\u5c55\\u793a\\u5bf9\\u5e94\\u7684\\u670d\\u52a1\\u3002\\u5982\\u679c\\u662fservice\\u5e73\\u53f0\\u90e8\\u7f72\\uff0c\\u70b9\\u51fb\\u300e\\u7533\\u8bf7service\\u5e73\\u53f0\\u670d\\u52a1\\u5de5\\u5355\\u300f\\uff1b\\u7533\\u8bf7\\u5de5\\u5355\\u540e\\uff0c\\u627e\\u8fd0\\u7ef4\\u5ba1\\u6838\\u3002\\u5982\\u679c\\u662fk8s \\u90e8\\u7f72\\uff0c\\u70b9\\u300e\\u4fee\\u6539k8s\\u670d\\u52a1\\u73af\\u5883\\u4fe1\\u606f\\u300f\\uff0c\\u586b\\u5199\\u597d\\u5bf9\\u5e94\\u4fe1\\u606f\\u540e\\uff0c\\u4fdd\\u5b58\\u5373\\u53ef\\uff0c\\u65e0\\u9700\\u5ba1\\u6838\\uff08k8s\\u5728\\u90e8\\u7f72\\u65f6\\uff0c\\u4f1a\\u81ea\\u52a8\\u8c03\\u5ea6\\u673a\\u5668\\u8d44\\u6e90\\uff09\\u3002\\u5982\\u4e0b\\u56fe\\uff1a\\n\\n1 \\u5982\\u4f55\\u5728 Console \\u4e0a\\u65b0\\u5efa\\u670d\\u52a1\\uff0c\\u9700\\u8981\\u63d0\\u4f9b\\u4ec0\\u4e48\\u4fe1\\u606f\\u70b9\\u51fbConsole\\u53f3\\u4e0a\\u89d2\\u7684oncall\\uff0c\\u63d0oncall\\u5904\\u7406\\u3002oncall\\u9700\\u8981\\u586b\\u5199\\u7684\\u4fe1\\u606f\\u5982\\u4e0b\\uff1a\\u7cfb\\u7edf\\uff1aConsole\\u7c7b\\u578b\\uff1a\\u95ee\\u9898\\u53cd\\u9988\\u7c7b\\u6982\\u8981\\uff1a\\u65b0\\u5efa\\u670d\\u52a1gerrit\\u9879\\u76ee\\u540d\\uff1a\\u4f60\\u7684\\u9879\\u76ee\\u540d\\uff0c\\u5982infra-fake-project\\u670d\\u52a1\\u540d\\uff1a\\u4f60\\u7684\\u670d\\u52a1\\u540d\\uff0c\\u5982\\uff1ainfra-fake-service\\u63cf\\u8ff0\\uff1a\\u00a0\\u670d\\u52a1\\u7c7b\\u578b\\uff1ahttp/rpc\\uff0c\\u9759\\u6001\\u670d\\u52a1\\uff0cxxl-job\\u670d\\u52a1\\uff0c\\u4e09\\u9009\\u4e00\\u670d\\u52a1\\u7aef\\u53e3\\uff1a\\u59828080\\u5982\\u4e0b\\u56fe\\uff1a\\u63d0\\u4ea4oncall\\u540e\\uff0c\\u4f1a\\u6709\\u4e13\\u4eba\\u5904\\u7406\\uff08\\u4e00\\u822c10min\\u4e4b\\u5185\\u4f1a\\u5904\\u7406\\uff09\\u30022 \\u5982\\u4f55\\u7533\\u8bf7\\u670d\\u52a1\\u6240\\u9700\\u7684\\u673a\\u5668\\u8d44\\u6e90\\u65b0\\u5efa\\u670d\\u52a1\\u540e\\uff0c\\u4f1a\\u5728\\u300e\\u670d\\u52a1\\u5217\\u8868\\u300f\\u4e2d\\u5c55\\u793a\\u5bf9\\u5e94\\u7684\\u670d\\u52a1\\u3002\\u5982\\u679c\\u662fservice\\u5e73\\u53f0\\u90e8\\u7f72\\uff0c\\u70b9\\u51fb\\u300e\\u7533\\u8bf7service\\u5e73\\u53f0\\u670d\\u52a1\\u5de5\\u5355\\u300f\\uff1b\\u7533\\u8bf7\\u5de5\\u5355\\u540e\\uff0c\\u627e\\u8fd0\\u7ef4\\u5ba1\\u6838\\u3002\\u5982\\u679c\\u662fk8s \\u90e8\\u7f72\\uff0c\\u70b9\\u300e\\u4fee\\u6539k8s\\u670d\\u52a1\\u73af\\u5883\\u4fe1\\u606f\\u300f\\uff0c\\u586b\\u5199\\u597d\\u5bf9\\u5e94\\u4fe1\\u606f\\u540e\\uff0c\\u4fdd\\u5b58\\u5373\\u53ef\\uff0c\\u65e0\\u9700\\u5ba1\\u6838\\uff08k8s\\u5728\\u90e8\\u7f72\\u65f6\\uff0c\\u4f1a\\u81ea\\u52a8\\u8c03\\u5ea6\\u673a\\u5668\\u8d44\\u6e90\\uff09\\u3002\\u5982\\u4e0b\\u56fe\\uff1a\\n\\n\\u8981\\u914d\\u7f6e\\u670d\\u52a1\\uff0c\\u9996\\u5148\\u8981\\u5bf9\\u5f53\\u524d\\u9879\\u76ee\\u4e2d\\u7684\\u670d\\u52a1\\u8fdb\\u884c\\u9009\\u62e9\\u3002\\u4e00\\u3001\\u64cd\\u4f5c1.\\u7f16\\u8f91\\u5bf9\\u4e8e\\u5df2\\u7ecf\\u914d\\u7f6e\\u4e86\\u73af\\u5883\\u4fe1\\u606f\\u7684\\u670d\\u52a1\\uff0c\\u4f1a\\u8fdb\\u884c\\u6570\\u636e\\u586b\\u5145\\uff0c\\u53ef\\u4ee5\\u5728\\u8fd9\\u4e2a\\u9875\\u9762\\u4e2d\\u76f4\\u63a5\\u8fdb\\u884c\\u7f16\\u8f91\\u30022.\\u65b0\\u914d\\u7f6e\\u65b0\\u5efa\\u670d\\u52a1\\u7684\\u73af\\u5883\\u4fe1\\u606f\\u5c1a\\u672a\\u586b\\u5145\\uff0c\\u56e0\\u6b64\\u9009\\u62e9\\u8fd9\\u4e2a\\u670d\\u52a1\\u7684\\u65f6\\u5019\\uff0c\\u8868\\u5355\\u5b57\\u6bb5\\u90fd\\u662f\\u7a7a\\u7684\\uff0c\\u53ef\\u4ee5\\u5728\\u8fd9\\u91cc\\u8fdb\\u884c\\u586b\\u5145\\u3002\\uff08\\u8865\\u56fe\\uff09\\u4e8c\\u3001\\u8fd0\\u884c\\u8f7d\\u4f53\\u4e0d\\u540c\\u7684\\u8fd0\\u884c\\u8f7d\\u4f53\\uff0c\\u9700\\u914d\\u7f6e\\u4e0d\\u540c\\u7684\\u73af\\u5883\\u4fe1\\u606f\\uff0c\\u4e09\\u3001\\u5e94\\u7528\\u7c7b\\u578bSTATIC \\u9759\\u6001\\u670d\\u52a1\\uff0c\\u6ca1\\u6709\\u8f7d\\u4f53\\u7684\\u6982\\u5ff5\\uff0c\\u9700\\u8981\\u914d\\u7f6e oss \\u4fe1\\u606f\\u3002\\n\\n\\u4e00\\u3001\\u73af\\u5883 + \\u670d\\u52a1\\u540d\\u6ce8\\u518c\\u4fe1\\u606f\\u9875\\u9762\\uff0c\\u4f1a\\u5206\\u73af\\u5883 Test / Online \\u5c55\\u793a\\u670d\\u52a1\\u7684\\u6ce8\\u518c\\u4fe1\\u606f\\uff0c\\u6211\\u4eec\\u53ef\\u4ee5\\u5728\\u8f93\\u5165\\u6846\\u4e2d\\u9009\\u62e9 \\u7279\\u5b9a\\u73af\\u5883 \\u4e2d\\u7684 \\u7279\\u5b9a\\u670d\\u52a1\\uff0c\\u5e95\\u4e0b\\u6298\\u53e0\\u9762\\u677f\\u4e2d\\u4f1a\\u5217\\u51fa\\u9009\\u4e2d\\u670d\\u52a1\\u7684\\u6ce8\\u518c\\u4fe1\\u606f\\uff0c\\u4e8c\\u3001\\u6ce8\\u518c\\u4fe1\\u606f\\u5217\\u88681.\\u7b5b\\u9009\\u7279\\u5b9a\\u670d\\u52a1\\u7684\\u6ce8\\u518c\\u4fe1\\u606f\\u5217\\u8868\\uff0c\\u53ef\\u4ee5\\u6839\\u636e \\u201c\\u96c6\\u7fa4\\u201d \\u548c \\u201c\\u72b6\\u6001\\u201d \\u8fdb\\u884c\\u67e5\\u8be2\\u3002\\u00a0\\u00a02.\\u5143\\u4fe1\\u606f\\u8be6\\u60c5\\u9f20\\u6807\\u60ac\\u6d6e\\u5230 \\u201c\\u5143\\u4fe1\\u606f\\u201d \\u4e00\\u5217\\u7684 \\u201c\\u8be6\\u60c5\\u201d \\u94fe\\u63a5\\u4f4d\\u7f6e\\uff0c\\u4f1a\\u5f39\\u51fa\\u6d6e\\u7a97\\uff0c\\u5c55\\u793a\\u76f8\\u5e94\\u7684 metadata \\u952e\\u503c\\u5bf9\\u30023.\\u4fee\\u6539\\u6743\\u91cd4. \\u4e0b\\u7ebf\\u4e09\\u3001\\u67e5\\u770b zk \\u6ce8\\u518c\\u4fe1\\u606f\\u70b9\\u51fb\\u670d\\u52a1\\u7684 \\u201c\\u67e5\\u770b zk \\u6ce8\\u518c\\u4fe1\\u606f\\u201d \\u6309\\u94ae\\uff0c\\u53ef\\u4ee5\\u6253\\u5f00\\u4e00\\u4e2a\\u5f39\\u6846\\uff0c\\u5c55\\u793a\\u670d\\u52a1\\u7684 zk \\u6ce8\\u518c\\u4fe1\\u606f\\uff0c\\u5f39\\u6846\\u4e2d\\uff0c\\u53ef\\u4ee5\\u6839\\u636e \\u201c\\u96c6\\u7fa4\\u201d \\u548c \\u201czkNode\\u201d \\u5bf9 zk \\u6ce8\\u518c\\u4fe1\\u606f\\u8fdb\\u884c\\u641c\\u7d22\\u3002\"\n",
      "}\n",
      "\u001b[32;1m\u001b[1;3m[llm/start]\u001b[0m \u001b[1m[1:RunTypeEnum.chain:CustomConversationalRetrievalChain > 4:RunTypeEnum.chain:StuffDocumentsChain > 5:RunTypeEnum.chain:LLMChain > 6:RunTypeEnum.llm:AzureChatOpenAI] Entering LLM run with input:\n",
      "\u001b[0m{\n",
      "  \"prompts\": [\n",
      "    \"System: Use the following pieces of context to answer the users question. \\nIf you don't know the answer, just say that you don't know, don't try to make up an answer.\\n----------------\\n1 \\u5982\\u4f55\\u5728 Console \\u4e0a\\u65b0\\u5efa\\u670d\\u52a1\\uff0c\\u9700\\u8981\\u63d0\\u4f9b\\u4ec0\\u4e48\\u4fe1\\u606f\\u70b9\\u51fbConsole\\u53f3\\u4e0a\\u89d2\\u7684oncall\\uff0c\\u63d0oncall\\u5904\\u7406\\u3002oncall\\u9700\\u8981\\u586b\\u5199\\u7684\\u4fe1\\u606f\\u5982\\u4e0b\\uff1a\\u7cfb\\u7edf\\uff1aConsole\\u7c7b\\u578b\\uff1a\\u95ee\\u9898\\u53cd\\u9988\\u7c7b\\u6982\\u8981\\uff1a\\u65b0\\u5efa\\u670d\\u52a1gerrit\\u9879\\u76ee\\u540d\\uff1a\\u4f60\\u7684\\u9879\\u76ee\\u540d\\uff0c\\u5982infra-fake-project\\u670d\\u52a1\\u540d\\uff1a\\u4f60\\u7684\\u670d\\u52a1\\u540d\\uff0c\\u5982\\uff1ainfra-fake-service\\u63cf\\u8ff0\\uff1a\\u00a0\\u670d\\u52a1\\u7c7b\\u578b\\uff1ahttp/rpc\\uff0c\\u9759\\u6001\\u670d\\u52a1\\uff0cxxl-job\\u670d\\u52a1\\uff0c\\u4e09\\u9009\\u4e00\\u670d\\u52a1\\u7aef\\u53e3\\uff1a\\u59828080\\u5982\\u4e0b\\u56fe\\uff1a\\u63d0\\u4ea4oncall\\u540e\\uff0c\\u4f1a\\u6709\\u4e13\\u4eba\\u5904\\u7406\\uff08\\u4e00\\u822c10min\\u4e4b\\u5185\\u4f1a\\u5904\\u7406\\uff09\\u30022 \\u5982\\u4f55\\u7533\\u8bf7\\u670d\\u52a1\\u6240\\u9700\\u7684\\u673a\\u5668\\u8d44\\u6e90\\u65b0\\u5efa\\u670d\\u52a1\\u540e\\uff0c\\u4f1a\\u5728\\u300e\\u670d\\u52a1\\u5217\\u8868\\u300f\\u4e2d\\u5c55\\u793a\\u5bf9\\u5e94\\u7684\\u670d\\u52a1\\u3002\\u5982\\u679c\\u662fservice\\u5e73\\u53f0\\u90e8\\u7f72\\uff0c\\u70b9\\u51fb\\u300e\\u7533\\u8bf7service\\u5e73\\u53f0\\u670d\\u52a1\\u5de5\\u5355\\u300f\\uff1b\\u7533\\u8bf7\\u5de5\\u5355\\u540e\\uff0c\\u627e\\u8fd0\\u7ef4\\u5ba1\\u6838\\u3002\\u5982\\u679c\\u662fk8s \\u90e8\\u7f72\\uff0c\\u70b9\\u300e\\u4fee\\u6539k8s\\u670d\\u52a1\\u73af\\u5883\\u4fe1\\u606f\\u300f\\uff0c\\u586b\\u5199\\u597d\\u5bf9\\u5e94\\u4fe1\\u606f\\u540e\\uff0c\\u4fdd\\u5b58\\u5373\\u53ef\\uff0c\\u65e0\\u9700\\u5ba1\\u6838\\uff08k8s\\u5728\\u90e8\\u7f72\\u65f6\\uff0c\\u4f1a\\u81ea\\u52a8\\u8c03\\u5ea6\\u673a\\u5668\\u8d44\\u6e90\\uff09\\u3002\\u5982\\u4e0b\\u56fe\\uff1a\\n\\n1 \\u5982\\u4f55\\u5728 Console \\u4e0a\\u65b0\\u5efa\\u670d\\u52a1\\uff0c\\u9700\\u8981\\u63d0\\u4f9b\\u4ec0\\u4e48\\u4fe1\\u606f\\u70b9\\u51fbConsole\\u53f3\\u4e0a\\u89d2\\u7684oncall\\uff0c\\u63d0oncall\\u5904\\u7406\\u3002oncall\\u9700\\u8981\\u586b\\u5199\\u7684\\u4fe1\\u606f\\u5982\\u4e0b\\uff1a\\u7cfb\\u7edf\\uff1aConsole\\u7c7b\\u578b\\uff1a\\u95ee\\u9898\\u53cd\\u9988\\u7c7b\\u6982\\u8981\\uff1a\\u65b0\\u5efa\\u670d\\u52a1gerrit\\u9879\\u76ee\\u540d\\uff1a\\u4f60\\u7684\\u9879\\u76ee\\u540d\\uff0c\\u5982infra-fake-project\\u670d\\u52a1\\u540d\\uff1a\\u4f60\\u7684\\u670d\\u52a1\\u540d\\uff0c\\u5982\\uff1ainfra-fake-service\\u63cf\\u8ff0\\uff1a\\u00a0\\u670d\\u52a1\\u7c7b\\u578b\\uff1ahttp/rpc\\uff0c\\u9759\\u6001\\u670d\\u52a1\\uff0cxxl-job\\u670d\\u52a1\\uff0c\\u4e09\\u9009\\u4e00\\u670d\\u52a1\\u7aef\\u53e3\\uff1a\\u59828080\\u5982\\u4e0b\\u56fe\\uff1a\\u63d0\\u4ea4oncall\\u540e\\uff0c\\u4f1a\\u6709\\u4e13\\u4eba\\u5904\\u7406\\uff08\\u4e00\\u822c10min\\u4e4b\\u5185\\u4f1a\\u5904\\u7406\\uff09\\u30022 \\u5982\\u4f55\\u7533\\u8bf7\\u670d\\u52a1\\u6240\\u9700\\u7684\\u673a\\u5668\\u8d44\\u6e90\\u65b0\\u5efa\\u670d\\u52a1\\u540e\\uff0c\\u4f1a\\u5728\\u300e\\u670d\\u52a1\\u5217\\u8868\\u300f\\u4e2d\\u5c55\\u793a\\u5bf9\\u5e94\\u7684\\u670d\\u52a1\\u3002\\u5982\\u679c\\u662fservice\\u5e73\\u53f0\\u90e8\\u7f72\\uff0c\\u70b9\\u51fb\\u300e\\u7533\\u8bf7service\\u5e73\\u53f0\\u670d\\u52a1\\u5de5\\u5355\\u300f\\uff1b\\u7533\\u8bf7\\u5de5\\u5355\\u540e\\uff0c\\u627e\\u8fd0\\u7ef4\\u5ba1\\u6838\\u3002\\u5982\\u679c\\u662fk8s \\u90e8\\u7f72\\uff0c\\u70b9\\u300e\\u4fee\\u6539k8s\\u670d\\u52a1\\u73af\\u5883\\u4fe1\\u606f\\u300f\\uff0c\\u586b\\u5199\\u597d\\u5bf9\\u5e94\\u4fe1\\u606f\\u540e\\uff0c\\u4fdd\\u5b58\\u5373\\u53ef\\uff0c\\u65e0\\u9700\\u5ba1\\u6838\\uff08k8s\\u5728\\u90e8\\u7f72\\u65f6\\uff0c\\u4f1a\\u81ea\\u52a8\\u8c03\\u5ea6\\u673a\\u5668\\u8d44\\u6e90\\uff09\\u3002\\u5982\\u4e0b\\u56fe\\uff1a\\n\\n\\u8981\\u914d\\u7f6e\\u670d\\u52a1\\uff0c\\u9996\\u5148\\u8981\\u5bf9\\u5f53\\u524d\\u9879\\u76ee\\u4e2d\\u7684\\u670d\\u52a1\\u8fdb\\u884c\\u9009\\u62e9\\u3002\\u4e00\\u3001\\u64cd\\u4f5c1.\\u7f16\\u8f91\\u5bf9\\u4e8e\\u5df2\\u7ecf\\u914d\\u7f6e\\u4e86\\u73af\\u5883\\u4fe1\\u606f\\u7684\\u670d\\u52a1\\uff0c\\u4f1a\\u8fdb\\u884c\\u6570\\u636e\\u586b\\u5145\\uff0c\\u53ef\\u4ee5\\u5728\\u8fd9\\u4e2a\\u9875\\u9762\\u4e2d\\u76f4\\u63a5\\u8fdb\\u884c\\u7f16\\u8f91\\u30022.\\u65b0\\u914d\\u7f6e\\u65b0\\u5efa\\u670d\\u52a1\\u7684\\u73af\\u5883\\u4fe1\\u606f\\u5c1a\\u672a\\u586b\\u5145\\uff0c\\u56e0\\u6b64\\u9009\\u62e9\\u8fd9\\u4e2a\\u670d\\u52a1\\u7684\\u65f6\\u5019\\uff0c\\u8868\\u5355\\u5b57\\u6bb5\\u90fd\\u662f\\u7a7a\\u7684\\uff0c\\u53ef\\u4ee5\\u5728\\u8fd9\\u91cc\\u8fdb\\u884c\\u586b\\u5145\\u3002\\uff08\\u8865\\u56fe\\uff09\\u4e8c\\u3001\\u8fd0\\u884c\\u8f7d\\u4f53\\u4e0d\\u540c\\u7684\\u8fd0\\u884c\\u8f7d\\u4f53\\uff0c\\u9700\\u914d\\u7f6e\\u4e0d\\u540c\\u7684\\u73af\\u5883\\u4fe1\\u606f\\uff0c\\u4e09\\u3001\\u5e94\\u7528\\u7c7b\\u578bSTATIC \\u9759\\u6001\\u670d\\u52a1\\uff0c\\u6ca1\\u6709\\u8f7d\\u4f53\\u7684\\u6982\\u5ff5\\uff0c\\u9700\\u8981\\u914d\\u7f6e oss \\u4fe1\\u606f\\u3002\\n\\n\\u4e00\\u3001\\u73af\\u5883 + \\u670d\\u52a1\\u540d\\u6ce8\\u518c\\u4fe1\\u606f\\u9875\\u9762\\uff0c\\u4f1a\\u5206\\u73af\\u5883 Test / Online \\u5c55\\u793a\\u670d\\u52a1\\u7684\\u6ce8\\u518c\\u4fe1\\u606f\\uff0c\\u6211\\u4eec\\u53ef\\u4ee5\\u5728\\u8f93\\u5165\\u6846\\u4e2d\\u9009\\u62e9 \\u7279\\u5b9a\\u73af\\u5883 \\u4e2d\\u7684 \\u7279\\u5b9a\\u670d\\u52a1\\uff0c\\u5e95\\u4e0b\\u6298\\u53e0\\u9762\\u677f\\u4e2d\\u4f1a\\u5217\\u51fa\\u9009\\u4e2d\\u670d\\u52a1\\u7684\\u6ce8\\u518c\\u4fe1\\u606f\\uff0c\\u4e8c\\u3001\\u6ce8\\u518c\\u4fe1\\u606f\\u5217\\u88681.\\u7b5b\\u9009\\u7279\\u5b9a\\u670d\\u52a1\\u7684\\u6ce8\\u518c\\u4fe1\\u606f\\u5217\\u8868\\uff0c\\u53ef\\u4ee5\\u6839\\u636e \\u201c\\u96c6\\u7fa4\\u201d \\u548c \\u201c\\u72b6\\u6001\\u201d \\u8fdb\\u884c\\u67e5\\u8be2\\u3002\\u00a0\\u00a02.\\u5143\\u4fe1\\u606f\\u8be6\\u60c5\\u9f20\\u6807\\u60ac\\u6d6e\\u5230 \\u201c\\u5143\\u4fe1\\u606f\\u201d \\u4e00\\u5217\\u7684 \\u201c\\u8be6\\u60c5\\u201d \\u94fe\\u63a5\\u4f4d\\u7f6e\\uff0c\\u4f1a\\u5f39\\u51fa\\u6d6e\\u7a97\\uff0c\\u5c55\\u793a\\u76f8\\u5e94\\u7684 metadata \\u952e\\u503c\\u5bf9\\u30023.\\u4fee\\u6539\\u6743\\u91cd4. \\u4e0b\\u7ebf\\u4e09\\u3001\\u67e5\\u770b zk \\u6ce8\\u518c\\u4fe1\\u606f\\u70b9\\u51fb\\u670d\\u52a1\\u7684 \\u201c\\u67e5\\u770b zk \\u6ce8\\u518c\\u4fe1\\u606f\\u201d \\u6309\\u94ae\\uff0c\\u53ef\\u4ee5\\u6253\\u5f00\\u4e00\\u4e2a\\u5f39\\u6846\\uff0c\\u5c55\\u793a\\u670d\\u52a1\\u7684 zk \\u6ce8\\u518c\\u4fe1\\u606f\\uff0c\\u5f39\\u6846\\u4e2d\\uff0c\\u53ef\\u4ee5\\u6839\\u636e \\u201c\\u96c6\\u7fa4\\u201d \\u548c \\u201czkNode\\u201d \\u5bf9 zk \\u6ce8\\u518c\\u4fe1\\u606f\\u8fdb\\u884c\\u641c\\u7d22\\u3002\\nHuman: What information do I need to provide when creating a service?\"\n",
      "  ]\n",
      "}\n"
     ]
    },
    {
     "name": "stdout",
     "output_type": "stream",
     "text": [
      "\u001b[36;1m\u001b[1;3m[llm/end]\u001b[0m \u001b[1m[1:RunTypeEnum.chain:CustomConversationalRetrievalChain > 4:RunTypeEnum.chain:StuffDocumentsChain > 5:RunTypeEnum.chain:LLMChain > 6:RunTypeEnum.llm:AzureChatOpenAI] [2.88s] Exiting LLM run with output:\n",
      "\u001b[0m{\n",
      "  \"generations\": [\n",
      "    [\n",
      "      {\n",
      "        \"text\": \"To create a service on Console, you need to click oncall on the upper right corner of the Console and fill in the following information in the oncall form:\\n- System\\n- Console type\\n- Summary\\n- Gerrit project name\\n- Service name\\n- Description\\n- Service type (http/rpc/static service)\\n- Service port\\n\\nAfter submitting the oncall form, a specialist will handle the request within 10 minutes.\",\n",
      "        \"generation_info\": null,\n",
      "        \"message\": {\n",
      "          \"content\": \"To create a service on Console, you need to click oncall on the upper right corner of the Console and fill in the following information in the oncall form:\\n- System\\n- Console type\\n- Summary\\n- Gerrit project name\\n- Service name\\n- Description\\n- Service type (http/rpc/static service)\\n- Service port\\n\\nAfter submitting the oncall form, a specialist will handle the request within 10 minutes.\",\n",
      "          \"additional_kwargs\": {},\n",
      "          \"example\": false\n",
      "        }\n",
      "      }\n",
      "    ]\n",
      "  ],\n",
      "  \"llm_output\": {\n",
      "    \"token_usage\": {\n",
      "      \"completion_tokens\": 88,\n",
      "      \"prompt_tokens\": 1002,\n",
      "      \"total_tokens\": 1090\n",
      "    },\n",
      "    \"model_name\": \"gpt-35-turbo\"\n",
      "  }\n",
      "}\n",
      "\u001b[36;1m\u001b[1;3m[chain/end]\u001b[0m \u001b[1m[1:RunTypeEnum.chain:CustomConversationalRetrievalChain > 4:RunTypeEnum.chain:StuffDocumentsChain > 5:RunTypeEnum.chain:LLMChain] [2.88s] Exiting Chain run with output:\n",
      "\u001b[0m{\n",
      "  \"text\": \"To create a service on Console, you need to click oncall on the upper right corner of the Console and fill in the following information in the oncall form:\\n- System\\n- Console type\\n- Summary\\n- Gerrit project name\\n- Service name\\n- Description\\n- Service type (http/rpc/static service)\\n- Service port\\n\\nAfter submitting the oncall form, a specialist will handle the request within 10 minutes.\"\n",
      "}\n",
      "\u001b[36;1m\u001b[1;3m[chain/end]\u001b[0m \u001b[1m[1:RunTypeEnum.chain:CustomConversationalRetrievalChain > 4:RunTypeEnum.chain:StuffDocumentsChain] [2.88s] Exiting Chain run with output:\n",
      "\u001b[0m{\n",
      "  \"output_text\": \"To create a service on Console, you need to click oncall on the upper right corner of the Console and fill in the following information in the oncall form:\\n- System\\n- Console type\\n- Summary\\n- Gerrit project name\\n- Service name\\n- Description\\n- Service type (http/rpc/static service)\\n- Service port\\n\\nAfter submitting the oncall form, a specialist will handle the request within 10 minutes.\"\n",
      "}\n",
      "\u001b[36;1m\u001b[1;3m[chain/end]\u001b[0m \u001b[1m[1:RunTypeEnum.chain:CustomConversationalRetrievalChain] [4.08s] Exiting Chain run with output:\n",
      "\u001b[0m{\n",
      "  \"answer\": \"To create a service on Console, you need to click oncall on the upper right corner of the Console and fill in the following information in the oncall form:\\n- System\\n- Console type\\n- Summary\\n- Gerrit project name\\n- Service name\\n- Description\\n- Service type (http/rpc/static service)\\n- Service port\\n\\nAfter submitting the oncall form, a specialist will handle the request within 10 minutes.\"\n",
      "}\n"
     ]
    }
   ],
   "source": [
    "from langchain.chains import RetrievalQA\n",
    "from langchain.llms import OpenAI\n",
    "from langchain.vectorstores.redis import Redis\n",
    "from langchain.embeddings.openai import OpenAIEmbeddings\n",
    "import langchain\n",
    "import os\n",
    "embeddings = OpenAIEmbeddings(deployment=\"embeddings_model\", chunk_size=1)\n",
    "\n",
    "query_db = Redis.from_existing_index(embeddings, redis_url=\"redis://localhost:6379\", index_name='chat_confluence_new')\n",
    "retriever = query_db.as_retriever()\n",
    "from langchain.chains.qa_with_sources import load_qa_with_sources_chain\n",
    "from langchain.chains import RetrievalQAWithSourcesChain\n",
    "from langchain.chat_models import AzureChatOpenAI\n",
    "from langchain.memory import ConversationBufferWindowMemory\n",
    "from langchain.chains import ConversationalRetrievalChain\n",
    "from langchain.memory import ConversationBufferMemory\n",
    "from dotenv import load_dotenv, find_dotenv\n",
    "\n",
    "memory = ConversationBufferMemory(memory_key=\"chat_history\", return_messages=True)\n",
    "llm = AzureChatOpenAI(deployment_name=\"chat_confluence\",model_name=\"gpt-35-turbo\", verbose=True)\n",
    "qa = CustomConversationalRetrievalChain.from_llm(llm, retriever, memory=memory)\n",
    "langchain.debug=True\n",
    "res1 = qa({\"question\": \"How to create a service?\"})\n",
    "# print(f\"answer is {res1}, source_docs is {qa.last_source_documents}\")\n",
    "res2 = qa({\"question\": \"\"})\n",
    "# print(f\"res2 is {res2}, source_docs are {qa.last_source_documents}\")\n",
    "langchain.debug=False"
   ]
  },
  {
   "cell_type": "code",
   "execution_count": null,
   "id": "8c7fd519",
   "metadata": {},
   "outputs": [],
   "source": []
  }
 ],
 "metadata": {
  "kernelspec": {
   "display_name": "Python 3 (ipykernel)",
   "language": "python",
   "name": "python3"
  },
  "language_info": {
   "codemirror_mode": {
    "name": "ipython",
    "version": 3
   },
   "file_extension": ".py",
   "mimetype": "text/x-python",
   "name": "python",
   "nbconvert_exporter": "python",
   "pygments_lexer": "ipython3",
   "version": "3.11.3"
  }
 },
 "nbformat": 4,
 "nbformat_minor": 5
}
